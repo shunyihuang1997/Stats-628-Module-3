{
 "cells": [
  {
   "cell_type": "markdown",
   "metadata": {},
   "source": [
    "## Convert Review.json to CSV"
   ]
  },
  {
   "cell_type": "code",
   "execution_count": null,
   "metadata": {},
   "outputs": [],
   "source": [
    "review = {\n",
    "        'review_id': [],\n",
    "        'user_id':[],\n",
    "        'business_id':[],\n",
    "        'stars': [], \n",
    "        'date':[],\n",
    "        'text': [],\n",
    "#         'userful':[],\n",
    "#         'funny':[],\n",
    "#         'cool':[]\n",
    "    }\n",
    "\n",
    "with open('./yelp_dataset_2022/yelp_dataset_2022/review.json','r',encoding = 'utf-8') as f:\n",
    "    for line in tqdm(f):\n",
    "        data = json.loads(line)\n",
    "        review['review_id'].append(data['review_id'])\n",
    "        review['user_id'].append(data['user_id'])\n",
    "        review['business_id'].append(data['business_id'])\n",
    "        review['stars'].append(data['stars'])\n",
    "        review['date'].append(data['date'])\n",
    "        review['text'].append(data['text'])\n",
    "#         review['useful'].append(data['useful'])\n",
    "#         review['funny'].append(data['funny'])\n",
    "#         review['cool'].append(data['cool'])\n",
    "        \n",
    "review = pd.DataFrame(review)\n",
    "\n",
    "print(review.shape)\n",
    "review.head()\n",
    "\n",
    "\n",
    "review['review_id'] = review['review_id'].astype(str)\n",
    "review['user_id'] = review['user_id'].astype(str)\n",
    "review['business_id'] = review['business_id'].astype(str)\n",
    "review['stars'] = review['stars'].astype(int)\n",
    "review['date'] = pd.to_datetime(review['date'])\n",
    "review['text'] = review['text'].astype(str)\n",
    "# review['useful'] = review['useful'].astype(int)\n",
    "# review['funny'] = review['funny'].astype(int)\n",
    "# review['cool'] = review['cool'].astype(int)\n",
    "\n",
    "\n",
    "review.to_csv('review.csv',index = False)"
   ]
  },
  {
   "cell_type": "markdown",
   "metadata": {},
   "source": [
    "## Convert Business.json to CSV"
   ]
  },
  {
   "cell_type": "code",
   "execution_count": null,
   "metadata": {},
   "outputs": [],
   "source": [
    "business = pd.read_json('./yelp_dataset_2022/yelp_dataset_2022/business.json',lines = True)\n",
    "business.to_csv('business.csv',index = False)"
   ]
  },
  {
   "cell_type": "markdown",
   "metadata": {},
   "source": [
    "## Convert Tip.json to CSV"
   ]
  },
  {
   "cell_type": "code",
   "execution_count": null,
   "metadata": {},
   "outputs": [],
   "source": [
    "tip = pd.read_json('./yelp_dataset_2022/yelp_dataset_2022/tip.json',lines = True)\n",
    "tip.to_csv('tip.csv', index = False)\n",
    "tip = pd.read_csv('tip.csv')\n"
   ]
  },
  {
   "cell_type": "markdown",
   "metadata": {},
   "source": [
    "## Convert User.json to CSV"
   ]
  },
  {
   "cell_type": "code",
   "execution_count": null,
   "metadata": {},
   "outputs": [],
   "source": [
    "user = {'user_id': [],\n",
    "        'name' : [],\n",
    "        'review_count': [],\n",
    "        'yelping_since' :[],\n",
    "        'useful': [],\n",
    "        'funny':[],\n",
    "        'cool':[],\n",
    "        'elite':[],\n",
    "        'friends':[],\n",
    "        'fans':[],\n",
    "        'average_stars':[],\n",
    "        'compliment_hot':[],\n",
    "        'compliment_more':[],\n",
    "        'compliment_profile':[],\n",
    "        'compliment_cute:':[],\n",
    "        'compliment_list':[],\n",
    "        'compliment_note':[],\n",
    "        'compliment_plain':[],\n",
    "        'compliment_cool':[],\n",
    "        'compliment_funny':[],\n",
    "        'compliment_writer':[],\n",
    "        'compliment_photos':[]\n",
    "       }\n",
    "\n",
    "with open('./yelp_dataset_2022/yelp_dataset_2022/user.json','r',encoding = 'utf-8') as f:\n",
    "    for line in tqdm(f):\n",
    "        data = json.loads(line)\n",
    "        user['user_id'].append(data['user_id'])\n",
    "        user['name'].append(data['name'])\n",
    "        user['review_count'].append(data['review_count'])\n",
    "        user['yelping_since'].append(data['yelping_since'])\n",
    "        user['useful'].append(data['useful'])\n",
    "        user['funny'].append(data['funny'])\n",
    "        user['cool'].append(data['cool'])\n",
    "        user['elite'].append(data['elite'])\n",
    "        user['friends'].append(data['friends'])\n",
    "        user['fans'].append(data['fans'])\n",
    "        user['average_stars'].append(data['average_stars'])\n",
    "        user['compliment_hot'].append(data['compliment_hot'])\n",
    "        user['compliment_more'].append(data['compliment_more'])\n",
    "        user['compliment_profile'].append(data['compliment_profile'])\n",
    "        user['compliment_cute'].append(data['compliment_cute'])\n",
    "        user['compliment_list'].append(data['compliment_list'])\n",
    "        user['compliment_note'].append(data['compliment_note'])\n",
    "        user['compliment_plain'].append(data['compliment_plain'])\n",
    "        user['compliment_cool'].append(data['compliment_cool'])\n",
    "        user['compliment_funny'].append(data['compliment_funny'])\n",
    "        user['compliment_writer'].append(data['compliment_writer'])\n",
    "        user['compliment_photos'].append(data['compliment_photos'])\n",
    "        \n",
    "user = pd.DataFrame(user)\n",
    "\n",
    "\n",
    "user['user_id'] = user['user_id'].astype(str)\n",
    "user['name'] = user['name'].astype(str)\n",
    "user['review_count'] = user['review_count'].astype(int)\n",
    "user['yelping_since'] = pd.to_datetime(user['yelping_since'])\n",
    "user['useful'] = user['useful'].astype(int)\n",
    "user['funny'] = user['funny'].astype(int)\n",
    "user['cool'] = user['cool'].astype(int)\n",
    "user['elite'] = user['elite'].astype(str)\n",
    "user['friends'] = user['friends'].astype(str)\n",
    "user['fans'] = user['fans'].astype(int)\n",
    "user['average_stars'] = user['average_stars'].astype(float)\n",
    "user['compliment_hot'] = user['compliment_hot'].astype(int)\n",
    "user['compliment_more'] = user['compliment_more'].astype(int)\n",
    "user['compliment_profile'] = user['compliment_profile'].astype(int)\n",
    "user['compliment_cute'] = user['compliment_cute'].astype(int)\n",
    "user['compliment_list'] = user['compliment_list'].astype(int)\n",
    "user['compliment_note'] = user['compliment_note'].astype(int)\n",
    "user['compliment_plain'] = user['compliment_plain'].astype(int)\n",
    "user['compliment_cool'] = user['compliment_cool'].astype(int)\n",
    "user['compliment_funny'] = user['compliment_funny'].astype(int)\n",
    "user['compliment_writer'] = user['compliment_writer'].astype(int)\n",
    "user['compliment_photos'] = user['compliment_photos'].astype(int)\n",
    "\n",
    "user.head()\n",
    "\n",
    "user.to_csv('user.csv',index = False)"
   ]
  },
  {
   "cell_type": "code",
   "execution_count": null,
   "metadata": {},
   "outputs": [],
   "source": []
  },
  {
   "cell_type": "code",
   "execution_count": null,
   "metadata": {},
   "outputs": [],
   "source": []
  },
  {
   "cell_type": "code",
   "execution_count": null,
   "metadata": {},
   "outputs": [],
   "source": []
  },
  {
   "cell_type": "code",
   "execution_count": null,
   "metadata": {},
   "outputs": [],
   "source": []
  },
  {
   "cell_type": "code",
   "execution_count": null,
   "metadata": {},
   "outputs": [],
   "source": []
  },
  {
   "cell_type": "code",
   "execution_count": null,
   "metadata": {},
   "outputs": [],
   "source": []
  }
 ],
 "metadata": {
  "kernelspec": {
   "display_name": "Python 3",
   "language": "python",
   "name": "python3"
  },
  "language_info": {
   "codemirror_mode": {
    "name": "ipython",
    "version": 3
   },
   "file_extension": ".py",
   "mimetype": "text/x-python",
   "name": "python",
   "nbconvert_exporter": "python",
   "pygments_lexer": "ipython3",
   "version": "3.8.5"
  }
 },
 "nbformat": 4,
 "nbformat_minor": 4
}
