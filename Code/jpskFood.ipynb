{
 "cells": [
  {
   "cell_type": "code",
   "execution_count": 11,
   "id": "94fc8c2f",
   "metadata": {},
   "outputs": [
    {
     "data": {
      "text/plain": [
       "71"
      ]
     },
     "execution_count": 11,
     "metadata": {},
     "output_type": "execute_result"
    }
   ],
   "source": [
    "japanese_food_list = ['sushi', 'ramen', 'udon', 'matcha', 'sashimi', 'tempura', 'unagi', 'wagyu', 'kushiyaki', 'yakitori', 'takoyaki', 'tofu', 'miso', 'kaisendon', 'donburi', 'chirashizushi',\n",
    "'eel', 'unagi', 'anago', 'zuke', 'tako tamago', 'fukagawa', 'fugu', 'crab', 'okonomiyaki', 'oysters', 'gyoza', 'karaage', 'Japanese curry', 'croquette', 'korokke', 'yakiniku', 'tonkatsu'\n",
    ", 'miso katsu', 'motsunabe', 'jingisukan', 'basashi', 'sakuraniku', 'dashi', 'tebasaki', 'doteni', 'kishimen', 'tsukemen', 'kakuni manju', 'champon', 'chawanmushi', 'konnyaku', 'tamagoyaki',\n",
    "'odon', 'nabemono', 'onigiri', 'monjayaki', 'okonomiyaki', 'TKG', 'yakiniku', 'kaiseki','mochi', 'castella', 'sake', 'shabu shabu', 'miso Soup', 'soba', 'gyudon', 'natto','kashipan', 'sukiyaki',\n",
    "'mentaiko', 'nikujaga', 'edamame', 'yakisoba','wagashi']\n",
    "len(japanese_food_list)"
   ]
  },
  {
   "cell_type": "code",
   "execution_count": 12,
   "id": "2895c8b5",
   "metadata": {},
   "outputs": [
    {
     "name": "stdout",
     "output_type": "stream",
     "text": [
      "['Japanese curry', 'TKG', 'anago', 'basashi', 'castella', 'champon', 'chawanmushi', 'chirashizushi', 'crab', 'croquette', 'dashi', 'donburi', 'doteni', 'edamame', 'eel', 'fugu', 'fukagawa', 'gyoza', 'gyudon', 'jingisukan', 'kaiseki', 'kaisendon', 'kakuni manju', 'karaage', 'kashipan', 'kishimen', 'konnyaku', 'korokke', 'kushiyaki', 'matcha', 'mentaiko', 'miso', 'miso Soup', 'miso katsu', 'mochi', 'monjayaki', 'motsunabe', 'nabemono', 'natto', 'nikujaga', 'odon', 'okonomiyaki', 'onigiri', 'oysters', 'ramen', 'sake', 'sakuraniku', 'sashimi', 'shabu shabu', 'soba', 'sukiyaki', 'sushi', 'tako tamago', 'takoyaki', 'tamagoyaki', 'tebasaki', 'tempura', 'tofu', 'tonkatsu', 'tsukemen', 'udon', 'unagi', 'wagashi', 'wagyu', 'yakiniku', 'yakisoba', 'yakitori', 'zuke']\n"
     ]
    },
    {
     "data": {
      "text/plain": [
       "68"
      ]
     },
     "execution_count": 12,
     "metadata": {},
     "output_type": "execute_result"
    }
   ],
   "source": [
    "new_jp_list = list(dict.fromkeys(japanese_food_list))\n",
    "new_jp_list.sort()\n",
    "print(new_jp_list)\n",
    "len(new_jp_list)"
   ]
  },
  {
   "cell_type": "code",
   "execution_count": 13,
   "id": "731e18da",
   "metadata": {},
   "outputs": [
    {
     "data": {
      "text/plain": [
       "62"
      ]
     },
     "execution_count": 13,
     "metadata": {},
     "output_type": "execute_result"
    }
   ],
   "source": [
    "southern_korean_food_list = ['bibimbap', 'gimbap', 'tteokguk', 'japchae', 'ramyun', 'naengmyeon', 'haemul pajeon', 'godeungo jorim', 'ganjang gejang', 'nakji bokkeum', 'hotteok', 'tteokbokki',\n",
    "'kimchi', 'samgyetang', 'sundubu jjigae', 'gamjatang', 'budae jjigae', 'army stew', 'galbijjim', 'bulgogi', 'samgyeopsal','Korean fried chicken', 'bossam', 'soondae', 'bingsu', 'sikhye', 'banchan',\n",
    "'maekju','chueotang', 'gogigui', 'Korean BBQ', 'gomtang', 'jajangmyeon', 'jjukumi', 'kalguksu', 'makgeolli', 'mandu', 'naengmyeon', 'gochujang', 'octopus', 'squid', 'nakji bokkeum', 'ojingeo bokkeum',\n",
    "'jeon', 'haemul pajeon', 'sannakji', 'seolnongtang', 'beongdegi', 'bindaetteok', 'fishcake', 'eomuk', 'odeng', 'tteokbokki', 'gyeranppang', 'hotteok', 'soondae','twigim', 'tempura', 'ddongbbang',\n",
    "'dondurma', 'schnee pang', 'tornado potato']\n",
    "len(southern_korean_food_list)"
   ]
  },
  {
   "cell_type": "code",
   "execution_count": 14,
   "id": "07bc3dc1",
   "metadata": {},
   "outputs": [
    {
     "name": "stdout",
     "output_type": "stream",
     "text": [
      "['Korean BBQ', 'Korean fried chicken', 'army stew', 'banchan', 'beongdegi', 'bibimbap', 'bindaetteok', 'bingsu', 'bossam', 'budae jjigae', 'bulgogi', 'chueotang', 'ddongbbang', 'dondurma', 'eomuk', 'fishcake', 'galbijjim', 'gamjatang', 'ganjang gejang', 'gimbap', 'gochujang', 'godeungo jorim', 'gogigui', 'gomtang', 'gyeranppang', 'haemul pajeon', 'hotteok', 'jajangmyeon', 'japchae', 'jeon', 'jjukumi', 'kalguksu', 'kimchi', 'maekju', 'makgeolli', 'mandu', 'naengmyeon', 'nakji bokkeum', 'octopus', 'odeng', 'ojingeo bokkeum', 'ramyun', 'samgyeopsal', 'samgyetang', 'sannakji', 'schnee pang', 'seolnongtang', 'sikhye', 'soondae', 'squid', 'sundubu jjigae', 'tempura', 'tornado potato', 'tteokbokki', 'tteokguk', 'twigim']\n"
     ]
    },
    {
     "data": {
      "text/plain": [
       "56"
      ]
     },
     "execution_count": 14,
     "metadata": {},
     "output_type": "execute_result"
    }
   ],
   "source": [
    "new_sk_list = list(dict.fromkeys(southern_korean_food_list))\n",
    "new_sk_list.sort()\n",
    "print(new_sk_list)\n",
    "len(new_sk_list)"
   ]
  },
  {
   "cell_type": "code",
   "execution_count": 15,
   "id": "afbdef18",
   "metadata": {},
   "outputs": [
    {
     "data": {
      "text/plain": [
       "['tempura']"
      ]
     },
     "execution_count": 15,
     "metadata": {},
     "output_type": "execute_result"
    }
   ],
   "source": [
    "ret = list(set(new_jp_list).intersection(set(new_sk_list)))\n",
    "ret"
   ]
  },
  {
   "cell_type": "code",
   "execution_count": null,
   "id": "2c8bf1ea",
   "metadata": {},
   "outputs": [],
   "source": []
  },
  {
   "cell_type": "code",
   "execution_count": null,
   "id": "865c7d6d",
   "metadata": {},
   "outputs": [],
   "source": []
  }
 ],
 "metadata": {
  "kernelspec": {
   "display_name": "Python 3 (ipykernel)",
   "language": "python",
   "name": "python3"
  },
  "language_info": {
   "codemirror_mode": {
    "name": "ipython",
    "version": 3
   },
   "file_extension": ".py",
   "mimetype": "text/x-python",
   "name": "python",
   "nbconvert_exporter": "python",
   "pygments_lexer": "ipython3",
   "version": "3.9.12"
  }
 },
 "nbformat": 4,
 "nbformat_minor": 5
}
